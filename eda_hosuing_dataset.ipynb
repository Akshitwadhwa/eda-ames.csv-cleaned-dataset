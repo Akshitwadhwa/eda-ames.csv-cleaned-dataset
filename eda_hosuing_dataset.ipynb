{
 "cells": [
  {
   "cell_type": "code",
   "execution_count": 2,
   "metadata": {},
   "outputs": [],
   "source": [
    "import numpy as np\n",
    "import pandas as pd\n",
    "import seaborn as sns\n",
    "import matplotlib.pyplot as plt"
   ]
  },
  {
   "cell_type": "code",
   "execution_count": 3,
   "metadata": {},
   "outputs": [
    {
     "data": {
      "text/html": [
       "<div>\n",
       "<style scoped>\n",
       "    .dataframe tbody tr th:only-of-type {\n",
       "        vertical-align: middle;\n",
       "    }\n",
       "\n",
       "    .dataframe tbody tr th {\n",
       "        vertical-align: top;\n",
       "    }\n",
       "\n",
       "    .dataframe thead th {\n",
       "        text-align: right;\n",
       "    }\n",
       "</style>\n",
       "<table border=\"1\" class=\"dataframe\">\n",
       "  <thead>\n",
       "    <tr style=\"text-align: right;\">\n",
       "      <th></th>\n",
       "      <th>Order</th>\n",
       "      <th>Lot Frontage</th>\n",
       "      <th>Lot Frontage.1</th>\n",
       "      <th>Garage Area</th>\n",
       "      <th>House Style</th>\n",
       "      <th>Fireplaces</th>\n",
       "      <th>Garage Type</th>\n",
       "      <th>Garage Cars</th>\n",
       "      <th>Yr Sold</th>\n",
       "      <th>SalePrice</th>\n",
       "    </tr>\n",
       "  </thead>\n",
       "  <tbody>\n",
       "    <tr>\n",
       "      <th>0</th>\n",
       "      <td>1</td>\n",
       "      <td>141.0</td>\n",
       "      <td>141.0</td>\n",
       "      <td>528.0</td>\n",
       "      <td>1Story</td>\n",
       "      <td>2</td>\n",
       "      <td>Attchd</td>\n",
       "      <td>2.0</td>\n",
       "      <td>2010</td>\n",
       "      <td>215000</td>\n",
       "    </tr>\n",
       "    <tr>\n",
       "      <th>1</th>\n",
       "      <td>2</td>\n",
       "      <td>80.0</td>\n",
       "      <td>80.0</td>\n",
       "      <td>730.0</td>\n",
       "      <td>1Story</td>\n",
       "      <td>0</td>\n",
       "      <td>Attchd</td>\n",
       "      <td>1.0</td>\n",
       "      <td>2010</td>\n",
       "      <td>105000</td>\n",
       "    </tr>\n",
       "    <tr>\n",
       "      <th>2</th>\n",
       "      <td>3</td>\n",
       "      <td>81.0</td>\n",
       "      <td>81.0</td>\n",
       "      <td>312.0</td>\n",
       "      <td>1Story</td>\n",
       "      <td>0</td>\n",
       "      <td>Attchd</td>\n",
       "      <td>1.0</td>\n",
       "      <td>2010</td>\n",
       "      <td>172000</td>\n",
       "    </tr>\n",
       "    <tr>\n",
       "      <th>3</th>\n",
       "      <td>4</td>\n",
       "      <td>93.0</td>\n",
       "      <td>93.0</td>\n",
       "      <td>522.0</td>\n",
       "      <td>1Story</td>\n",
       "      <td>2</td>\n",
       "      <td>Attchd</td>\n",
       "      <td>2.0</td>\n",
       "      <td>2010</td>\n",
       "      <td>244000</td>\n",
       "    </tr>\n",
       "    <tr>\n",
       "      <th>4</th>\n",
       "      <td>5</td>\n",
       "      <td>74.0</td>\n",
       "      <td>74.0</td>\n",
       "      <td>482.0</td>\n",
       "      <td>2Story</td>\n",
       "      <td>1</td>\n",
       "      <td>Attchd</td>\n",
       "      <td>2.0</td>\n",
       "      <td>2010</td>\n",
       "      <td>189900</td>\n",
       "    </tr>\n",
       "  </tbody>\n",
       "</table>\n",
       "</div>"
      ],
      "text/plain": [
       "   Order  Lot Frontage  Lot Frontage.1  Garage Area House Style  Fireplaces  \\\n",
       "0      1         141.0           141.0        528.0      1Story           2   \n",
       "1      2          80.0            80.0        730.0      1Story           0   \n",
       "2      3          81.0            81.0        312.0      1Story           0   \n",
       "3      4          93.0            93.0        522.0      1Story           2   \n",
       "4      5          74.0            74.0        482.0      2Story           1   \n",
       "\n",
       "  Garage Type  Garage Cars  Yr Sold  SalePrice  \n",
       "0      Attchd          2.0     2010     215000  \n",
       "1      Attchd          1.0     2010     105000  \n",
       "2      Attchd          1.0     2010     172000  \n",
       "3      Attchd          2.0     2010     244000  \n",
       "4      Attchd          2.0     2010     189900  "
      ]
     },
     "execution_count": 3,
     "metadata": {},
     "output_type": "execute_result"
    }
   ],
   "source": [
    "house_model= pd.read_csv(\"new_housing_data.csv\")\n",
    "house_model.head(5)"
   ]
  },
  {
   "cell_type": "code",
   "execution_count": 4,
   "metadata": {},
   "outputs": [
    {
     "data": {
      "text/plain": [
       "Order               0\n",
       "Lot Frontage      490\n",
       "Lot Frontage.1    490\n",
       "Garage Area         1\n",
       "House Style         0\n",
       "Fireplaces          0\n",
       "Garage Type       157\n",
       "Garage Cars         1\n",
       "Yr Sold             0\n",
       "SalePrice           0\n",
       "dtype: int64"
      ]
     },
     "execution_count": 4,
     "metadata": {},
     "output_type": "execute_result"
    }
   ],
   "source": [
    "house_model.isnull().sum()\n"
   ]
  },
  {
   "cell_type": "markdown",
   "metadata": {},
   "source": [
    "# we see there are some null values in the given dataset."
   ]
  },
  {
   "cell_type": "code",
   "execution_count": 5,
   "metadata": {},
   "outputs": [
    {
     "data": {
      "text/html": [
       "<div>\n",
       "<style scoped>\n",
       "    .dataframe tbody tr th:only-of-type {\n",
       "        vertical-align: middle;\n",
       "    }\n",
       "\n",
       "    .dataframe tbody tr th {\n",
       "        vertical-align: top;\n",
       "    }\n",
       "\n",
       "    .dataframe thead th {\n",
       "        text-align: right;\n",
       "    }\n",
       "</style>\n",
       "<table border=\"1\" class=\"dataframe\">\n",
       "  <thead>\n",
       "    <tr style=\"text-align: right;\">\n",
       "      <th></th>\n",
       "      <th>Order</th>\n",
       "      <th>Lot Frontage</th>\n",
       "      <th>Lot Frontage.1</th>\n",
       "      <th>Garage Area</th>\n",
       "      <th>House Style</th>\n",
       "      <th>Fireplaces</th>\n",
       "      <th>Garage Type</th>\n",
       "      <th>Garage Cars</th>\n",
       "      <th>Yr Sold</th>\n",
       "      <th>SalePrice</th>\n",
       "    </tr>\n",
       "  </thead>\n",
       "  <tbody>\n",
       "    <tr>\n",
       "      <th>0</th>\n",
       "      <td>1</td>\n",
       "      <td>141.0</td>\n",
       "      <td>141.0</td>\n",
       "      <td>528.0</td>\n",
       "      <td>1Story</td>\n",
       "      <td>2</td>\n",
       "      <td>Attchd</td>\n",
       "      <td>2.0</td>\n",
       "      <td>2010</td>\n",
       "      <td>215000</td>\n",
       "    </tr>\n",
       "    <tr>\n",
       "      <th>1</th>\n",
       "      <td>2</td>\n",
       "      <td>80.0</td>\n",
       "      <td>80.0</td>\n",
       "      <td>730.0</td>\n",
       "      <td>1Story</td>\n",
       "      <td>0</td>\n",
       "      <td>Attchd</td>\n",
       "      <td>1.0</td>\n",
       "      <td>2010</td>\n",
       "      <td>105000</td>\n",
       "    </tr>\n",
       "    <tr>\n",
       "      <th>2</th>\n",
       "      <td>3</td>\n",
       "      <td>81.0</td>\n",
       "      <td>81.0</td>\n",
       "      <td>312.0</td>\n",
       "      <td>1Story</td>\n",
       "      <td>0</td>\n",
       "      <td>Attchd</td>\n",
       "      <td>1.0</td>\n",
       "      <td>2010</td>\n",
       "      <td>172000</td>\n",
       "    </tr>\n",
       "    <tr>\n",
       "      <th>3</th>\n",
       "      <td>4</td>\n",
       "      <td>93.0</td>\n",
       "      <td>93.0</td>\n",
       "      <td>522.0</td>\n",
       "      <td>1Story</td>\n",
       "      <td>2</td>\n",
       "      <td>Attchd</td>\n",
       "      <td>2.0</td>\n",
       "      <td>2010</td>\n",
       "      <td>244000</td>\n",
       "    </tr>\n",
       "    <tr>\n",
       "      <th>4</th>\n",
       "      <td>5</td>\n",
       "      <td>74.0</td>\n",
       "      <td>74.0</td>\n",
       "      <td>482.0</td>\n",
       "      <td>2Story</td>\n",
       "      <td>1</td>\n",
       "      <td>Attchd</td>\n",
       "      <td>2.0</td>\n",
       "      <td>2010</td>\n",
       "      <td>189900</td>\n",
       "    </tr>\n",
       "  </tbody>\n",
       "</table>\n",
       "</div>"
      ],
      "text/plain": [
       "   Order  Lot Frontage  Lot Frontage.1  Garage Area House Style  Fireplaces  \\\n",
       "0      1         141.0           141.0        528.0      1Story           2   \n",
       "1      2          80.0            80.0        730.0      1Story           0   \n",
       "2      3          81.0            81.0        312.0      1Story           0   \n",
       "3      4          93.0            93.0        522.0      1Story           2   \n",
       "4      5          74.0            74.0        482.0      2Story           1   \n",
       "\n",
       "  Garage Type  Garage Cars  Yr Sold  SalePrice  \n",
       "0      Attchd          2.0     2010     215000  \n",
       "1      Attchd          1.0     2010     105000  \n",
       "2      Attchd          1.0     2010     172000  \n",
       "3      Attchd          2.0     2010     244000  \n",
       "4      Attchd          2.0     2010     189900  "
      ]
     },
     "execution_count": 5,
     "metadata": {},
     "output_type": "execute_result"
    }
   ],
   "source": [
    "house_model.head(5)"
   ]
  },
  {
   "cell_type": "code",
   "execution_count": 6,
   "metadata": {},
   "outputs": [
    {
     "data": {
      "text/plain": [
       "Yr Sold\n",
       "2006    625\n",
       "2007    694\n",
       "2008    622\n",
       "2009    648\n",
       "2010    341\n",
       "Name: count, dtype: int64"
      ]
     },
     "execution_count": 6,
     "metadata": {},
     "output_type": "execute_result"
    }
   ],
   "source": [
    "year_sold = house_model['Yr Sold'].value_counts().sort_index()\n",
    "year_sold"
   ]
  },
  {
   "cell_type": "code",
   "execution_count": 7,
   "metadata": {},
   "outputs": [
    {
     "data": {
      "image/png": "[encoded data removed]",
      "text/plain": [
       "<Figure size 720x540 with 1 Axes>"
      ]
     },
     "metadata": {},
     "output_type": "display_data"
    }
   ],
   "source": [
    "plt.figure(figsize=(4, 3),dpi=180)\n",
    "sns.countplot(x=\"Yr Sold\" , data = house_model)\n",
    "bar_width = 0.25"
   ]
  },
  {
   "cell_type": "markdown",
   "metadata": {},
   "source": [
    "# we see that the year in which the most houses were sold in is 2007"
   ]
  },
  {
   "cell_type": "code",
   "execution_count": 8,
   "metadata": {},
   "outputs": [
    {
     "data": {
      "text/html": [
       "<div>\n",
       "<style scoped>\n",
       "    .dataframe tbody tr th:only-of-type {\n",
       "        vertical-align: middle;\n",
       "    }\n",
       "\n",
       "    .dataframe tbody tr th {\n",
       "        vertical-align: top;\n",
       "    }\n",
       "\n",
       "    .dataframe thead th {\n",
       "        text-align: right;\n",
       "    }\n",
       "</style>\n",
       "<table border=\"1\" class=\"dataframe\">\n",
       "  <thead>\n",
       "    <tr style=\"text-align: right;\">\n",
       "      <th></th>\n",
       "      <th>Garage Area</th>\n",
       "      <th>Garage Type</th>\n",
       "    </tr>\n",
       "  </thead>\n",
       "  <tbody>\n",
       "    <tr>\n",
       "      <th>602</th>\n",
       "      <td>1488.0</td>\n",
       "      <td>Detchd</td>\n",
       "    </tr>\n",
       "    <tr>\n",
       "      <th>601</th>\n",
       "      <td>1418.0</td>\n",
       "      <td>Attchd</td>\n",
       "    </tr>\n",
       "    <tr>\n",
       "      <th>600</th>\n",
       "      <td>1390.0</td>\n",
       "      <td>Attchd</td>\n",
       "    </tr>\n",
       "    <tr>\n",
       "      <th>599</th>\n",
       "      <td>1356.0</td>\n",
       "      <td>2Types</td>\n",
       "    </tr>\n",
       "    <tr>\n",
       "      <th>598</th>\n",
       "      <td>1348.0</td>\n",
       "      <td>Attchd</td>\n",
       "    </tr>\n",
       "  </tbody>\n",
       "</table>\n",
       "</div>"
      ],
      "text/plain": [
       "     Garage Area Garage Type\n",
       "602       1488.0      Detchd\n",
       "601       1418.0      Attchd\n",
       "600       1390.0      Attchd\n",
       "599       1356.0      2Types\n",
       "598       1348.0      Attchd"
      ]
     },
     "execution_count": 8,
     "metadata": {},
     "output_type": "execute_result"
    }
   ],
   "source": [
    "max_garge_area = house_model.groupby('Garage Area')['Garage Type'].max().reset_index()\n",
    "top_5_garage_areas = max_garge_area.sort_values(by='Garage Area', ascending=False).head(5)\n",
    "top_5_garage_areas"
   ]
  },
  {
   "cell_type": "code",
   "execution_count": 9,
   "metadata": {},
   "outputs": [
    {
     "data": {
      "text/plain": [
       "(array([1340., 1360., 1380., 1400., 1420., 1440., 1460., 1480., 1500.]),\n",
       " [Text(1340.0, 0, '1340'),\n",
       "  Text(1360.0, 0, '1360'),\n",
       "  Text(1380.0, 0, '1380'),\n",
       "  Text(1400.0, 0, '1400'),\n",
       "  Text(1420.0, 0, '1420'),\n",
       "  Text(1440.0, 0, '1440'),\n",
       "  Text(1460.0, 0, '1460'),\n",
       "  Text(1480.0, 0, '1480'),\n",
       "  Text(1500.0, 0, '1500')])"
      ]
     },
     "execution_count": 9,
     "metadata": {},
     "output_type": "execute_result"
    },
    {
     "data": {
      "image/png": "[encoded data removed]",
      "text/plain": [
       "<Figure size 640x480 with 1 Axes>"
      ]
     },
     "metadata": {},
     "output_type": "display_data"
    }
   ],
   "source": [
    "sns.lineplot(x='Garage Area', y='Garage Type' , data= top_5_garage_areas,marker='o')\n",
    "plt.xticks(rotation=45, ha='right', fontsize=15)\n",
    "plt.xticks(rotation=75, ha='right')\n"
   ]
  },
  {
   "cell_type": "markdown",
   "metadata": {},
   "source": [
    "# we see that the first highest data is an attached garage type."
   ]
  },
  {
   "cell_type": "code",
   "execution_count": 11,
   "metadata": {},
   "outputs": [],
   "source": [
    "from sklearn.model_selection import train_test_split\n",
    "from sklearn.metrics import classification_report, accuracy_score \n",
    "from sklearn.metrics import precision_score, recall_score\n",
    "from sklearn.metrics import f1_score, matthews_corrcoef\n",
    "from sklearn.metrics import confusion_matrix"
   ]
  },
  {
   "cell_type": "code",
   "execution_count": 12,
   "metadata": {},
   "outputs": [
    {
     "data": {
      "text/plain": [
       "House Style\n",
       "1.5Fin     314\n",
       "1.5Unf      19\n",
       "1Story    1481\n",
       "2.5Fin       8\n",
       "2.5Unf      24\n",
       "2Story     873\n",
       "SFoyer      83\n",
       "SLvl       128\n",
       "Name: count, dtype: int64"
      ]
     },
     "execution_count": 12,
     "metadata": {},
     "output_type": "execute_result"
    }
   ],
   "source": [
    "house_style = house_model['House Style'].value_counts().sort_index()\n",
    "house_style"
   ]
  },
  {
   "cell_type": "markdown",
   "metadata": {},
   "source": [
    "# We see that there are 8 unique values in the given dataset for the house style\n",
    "I have exaplained the each house type in the added txt file."
   ]
  },
  {
   "cell_type": "code",
   "execution_count": null,
   "metadata": {},
   "outputs": [],
   "source": []
  }
 ],
 "metadata": {
  "kernelspec": {
   "display_name": "Python 3",
   "language": "python",
   "name": "python3"
  },
  "language_info": {
   "codemirror_mode": {
    "name": "ipython",
    "version": 3
   },
   "file_extension": ".py",
   "mimetype": "text/x-python",
   "name": "python",
   "nbconvert_exporter": "python",
   "pygments_lexer": "ipython3",
   "version": "3.9.6"
  }
 },
 "nbformat": 4,
 "nbformat_minor": 2
}
